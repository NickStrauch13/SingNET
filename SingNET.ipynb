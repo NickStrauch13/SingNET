{
 "cells": [
  {
   "cell_type": "code",
   "execution_count": 1,
   "id": "9e1d266c-7afa-43a4-a521-2aca2fa1bdef",
   "metadata": {},
   "outputs": [],
   "source": [
    "import torch\n",
    "import torch.nn as nn\n",
    "import torch.nn.functional as F"
   ]
  },
  {
   "cell_type": "code",
   "execution_count": 2,
   "id": "d8cba515-561c-40f9-a519-103e3586ab4f",
   "metadata": {},
   "outputs": [],
   "source": [
    "def swish(x):\n",
    "    return x/(1+torch.exp(-x))"
   ]
  },
  {
   "cell_type": "code",
   "execution_count": null,
   "id": "94a37aad-a821-40a8-b88f-1e12b31f0aab",
   "metadata": {},
   "outputs": [],
   "source": [
    "# MobileNET arch\n",
    "class SingNET(nn.Module):\n",
    "    def __init__(self):\n",
    "        super(SingNET, self).__init__()\n",
    "        self.conv0 = nn.Conv2d(in_channels=1, out_channels=32, kernel_size=3, stride=2, padding=1)\n",
    "        self.batchnorm0 = nn.BatchNorm2d(32)\n",
    "        \n",
    "        self.conv1 = nn.Conv2d(32, 32, 3, padding=1)   #depthwise\n",
    "        self.batchnorm1 = nn.BatchNorm2d(32)\n",
    "        self.conv2 = nn.Conv2d(32, 64, 1, padding=1)\n",
    "        self.batchnorm2 = nn\n",
    "        \n",
    "        \n",
    "    def forward(self, x):\n",
    "        out = self.batchnorm0(self.conv0(x))\n",
    "        out = swish(x)\n",
    "        "
   ]
  }
 ],
 "metadata": {
  "kernelspec": {
   "display_name": "Python 3 (ipykernel)",
   "language": "python",
   "name": "python3"
  },
  "language_info": {
   "codemirror_mode": {
    "name": "ipython",
    "version": 3
   },
   "file_extension": ".py",
   "mimetype": "text/x-python",
   "name": "python",
   "nbconvert_exporter": "python",
   "pygments_lexer": "ipython3",
   "version": "3.9.12"
  }
 },
 "nbformat": 4,
 "nbformat_minor": 5
}
