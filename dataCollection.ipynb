{
 "cells": [
  {
   "cell_type": "markdown",
   "id": "e296781a-e5a7-45d6-935f-76816a81c814",
   "metadata": {},
   "source": [
    "# Data collection"
   ]
  },
  {
   "cell_type": "markdown",
   "id": "b15020a8-e9d1-418f-901b-2fd5e5265e1d",
   "metadata": {},
   "source": [
    "1. Collect all docs from API call to XENO-CANTO with the query 'cnt:\"=Singapore\" grp:\"birds\"' to get all Sinapore recordings\n",
    "2. Compile list of all unique species that are returned.\n",
    "3. Perform API call on each of these names\n",
    "4. Extract either the oscillogram or the audio file\n",
    "5. Convert data to valid format to pass through the net."
   ]
  },
  {
   "cell_type": "markdown",
   "id": "8bea92d9-9bf5-47d5-ad61-3fef36fbf723",
   "metadata": {},
   "source": [
    "### 1"
   ]
  },
  {
   "cell_type": "code",
   "execution_count": 1,
   "id": "e46a78de-bd22-434f-ba96-414d70f27ad8",
   "metadata": {},
   "outputs": [],
   "source": [
    "import requests\n",
    "import json\n",
    "from tqdm import tqdm\n",
    "import os"
   ]
  },
  {
   "cell_type": "code",
   "execution_count": 2,
   "id": "87a21fed-e462-484c-aa51-8892d5bb13c4",
   "metadata": {},
   "outputs": [],
   "source": [
    "XENO_URL_ROOT = \"https://www.xeno-canto.org/api/2/recordings?query=\"\n",
    "SINGAPORE_QUERY = 'cnt:\"=Singapore\" grp:\"birds\"'\n",
    "SINGAPORE_URL = XENO_URL_ROOT + SINGAPORE_QUERY"
   ]
  },
  {
   "cell_type": "code",
   "execution_count": 3,
   "id": "ba739c13-e046-4d66-82fd-2aa4f9dd4302",
   "metadata": {},
   "outputs": [],
   "source": [
    "def collect_all_pages(url):\n",
    "    data = requests.get(url)\n",
    "    data_dict = json.loads(data.text)\n",
    "    numPages = data_dict[\"numPages\"]\n",
    "    recording_data_list = data_dict[\"recordings\"]\n",
    "    if numPages > 1:\n",
    "        for page in range(2, numPages+1):\n",
    "            page_updated_url = url + \"&page=\" + str(page)\n",
    "            page_data_dict = json.loads(requests.get(page_updated_url).text)\n",
    "            recording_data_list.extend(page_data_dict[\"recordings\"])\n",
    "    return recording_data_list"
   ]
  },
  {
   "cell_type": "code",
   "execution_count": 4,
   "id": "51b3e441-8edd-42d1-a243-946226bae82e",
   "metadata": {},
   "outputs": [],
   "source": [
    "def extract_unique_species(data_list, key=\"en\"):\n",
    "    unique_species = set()\n",
    "    for doc in data_list:\n",
    "        unique_species.add(doc[key])\n",
    "    return list(unique_species)"
   ]
  },
  {
   "cell_type": "code",
   "execution_count": 5,
   "id": "0ec6dc4a-aca3-46fc-9404-83817a826fe8",
   "metadata": {},
   "outputs": [],
   "source": [
    "singapore_data = collect_all_pages(SINGAPORE_URL)"
   ]
  },
  {
   "cell_type": "markdown",
   "id": "4f29243d-e83e-4aa6-88c7-60efd0322bb6",
   "metadata": {},
   "source": [
    "### 2"
   ]
  },
  {
   "cell_type": "code",
   "execution_count": 6,
   "id": "2b3c829c-998e-4d87-84ca-e5328f60d4f0",
   "metadata": {},
   "outputs": [],
   "source": [
    "unique_singapore_species = extract_unique_species(singapore_data)"
   ]
  },
  {
   "cell_type": "markdown",
   "id": "be56bf88-6904-48b6-9dd4-f53395d01c5f",
   "metadata": {},
   "source": [
    "### 3"
   ]
  },
  {
   "cell_type": "code",
   "execution_count": 7,
   "id": "ebfb2d36-2b70-48d2-937e-1cefaaee709b",
   "metadata": {},
   "outputs": [],
   "source": [
    "unique_singapore_queries  = [species.replace(\" \", \"+\") for species in unique_singapore_species]\n",
    "filenames = [species.replace(\" \", \"_\") for species in unique_singapore_species]\n",
    "unique_singapore_urls = [XENO_URL_ROOT+query for query in unique_singapore_queries]"
   ]
  },
  {
   "cell_type": "markdown",
   "id": "ddcdc156-af36-4bd4-9777-ce11ec79165e",
   "metadata": {},
   "source": [
    "#### Write API data to files"
   ]
  },
  {
   "cell_type": "code",
   "execution_count": 9,
   "id": "d854cda8-3b90-435e-8aa5-9c80d4710fec",
   "metadata": {},
   "outputs": [],
   "source": [
    "# for i in tqdm(range(0, len(unique_singapore_urls))):\n",
    "#     url = unique_singapore_urls[i]\n",
    "#     species_i_data = collect_all_pages(url)\n",
    "#     with open(f\"./data/{filenames[i]}.json\", \"w\") as outfile:\n",
    "#         json.dump(species_i_data, outfile)"
   ]
  },
  {
   "cell_type": "markdown",
   "id": "4e1e7bb8-c5c1-44c2-baf2-59cc75bdbd90",
   "metadata": {},
   "source": [
    "#### Compile all json datafiles into single file for mySQL"
   ]
  },
  {
   "cell_type": "code",
   "execution_count": 26,
   "id": "e17535b3-32b1-45f2-99d6-6944abc96b31",
   "metadata": {},
   "outputs": [],
   "source": [
    "compiled_data = []\n",
    "for filename in os.listdir(\"./data\"):\n",
    "    if filename.endswith(\".json\"):\n",
    "        with open(\"./data/\" + filename, 'r') as speciesFile:\n",
    "            species_data = json.load(speciesFile)\n",
    "            compiled_data.extend(species_data)\n",
    "            \n",
    "# Convert \"00:27\" string length format to integer representing length in seconds\n",
    "for d in compiled_data:\n",
    "    string_length = d[\"length\"]\n",
    "    try:\n",
    "        mins, secs = string_length.split(\":\")\n",
    "        int_time = int(mins)*60 + int(secs)\n",
    "    except:\n",
    "        hours, mins, secs = string_length.split(\":\")\n",
    "        int_time = int(hours)*3600 + int(mins)*60 + int(secs)\n",
    "        \n",
    "    d[\"length\"] = int_time\n",
    "\n",
    "# Write data to compiled_data file\n",
    "# with open(\"./data/compiled/compiled_data.json\", \"w\") as outfile:\n",
    "#     json.dump(compiled_data, outfile)\n"
   ]
  },
  {
   "cell_type": "code",
   "execution_count": 29,
   "id": "c3c7b617-9521-490f-94aa-dd81f6f7ad46",
   "metadata": {},
   "outputs": [],
   "source": [
    "\n",
    "with open(\"./data/compiled/compiled_data.json\", \"r\") as largeFile:\n",
    "    data = json.load(largeFile)\n",
    "    name_index = 0\n",
    "    prev_index = 0\n",
    "    for i in range(len(data)//10, len(data)+1, len(data)//10):\n",
    "        with open(f\"./data/compiled/comp_{str(name_index)}.json\", 'w') as outfile:\n",
    "            # json.dump(data[prev_index:i], outfile)\n",
    "            prev_index = i\n",
    "        name_index += 1\n",
    "    "
   ]
  },
  {
   "cell_type": "code",
   "execution_count": null,
   "id": "b0ae774b-901b-4427-a4f6-ee36674bc80c",
   "metadata": {},
   "outputs": [],
   "source": []
  },
  {
   "cell_type": "code",
   "execution_count": 5,
   "id": "19f9bdb1-ab5d-4448-95d8-80538ff525a0",
   "metadata": {},
   "outputs": [],
   "source": [
    "# Script used to collect Costa Rica test birds.\n",
    "\n",
    "# costa_birds = ['Great Tinamou', 'Green Ibis', 'Broad-billed Motmot', 'Yellow-throated Toucan', 'White-breasted Wood Wren']\n",
    "\n",
    "# for bird in costa_birds:\n",
    "#     query = XENO_URL_ROOT + bird.replace(\" \", \"+\")\n",
    "#     bird_data = collect_all_pages(query)\n",
    "#     filename = bird.replace(\" \", \"_\")\n",
    "#     with open(f\"./data/costa_rica/{filename}.json\", \"w\") as outfile:\n",
    "#          json.dump(bird_data, outfile)"
   ]
  },
  {
   "cell_type": "code",
   "execution_count": null,
   "id": "b199debe-f4a0-4b68-b545-e9e12d4f91bb",
   "metadata": {},
   "outputs": [],
   "source": []
  }
 ],
 "metadata": {
  "kernelspec": {
   "display_name": "Python 3 (ipykernel)",
   "language": "python",
   "name": "python3"
  },
  "language_info": {
   "codemirror_mode": {
    "name": "ipython",
    "version": 3
   },
   "file_extension": ".py",
   "mimetype": "text/x-python",
   "name": "python",
   "nbconvert_exporter": "python",
   "pygments_lexer": "ipython3",
   "version": "3.11.1"
  }
 },
 "nbformat": 4,
 "nbformat_minor": 5
}
