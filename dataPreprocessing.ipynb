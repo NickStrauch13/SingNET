{
 "cells": [
  {
   "cell_type": "code",
   "execution_count": 6,
   "id": "09e149f5-4c23-4b6f-b62d-2cc9c2507326",
   "metadata": {},
   "outputs": [],
   "source": [
    "import numpy as np\n",
    "import pydub\n",
    "import requests\n",
    "import os\n",
    "import json"
   ]
  },
  {
   "cell_type": "markdown",
   "id": "4602b06f-e5a7-43e0-be86-bfbf95891679",
   "metadata": {},
   "source": [
    "### mp3 to nparray\n",
    "You need ffmpeg installed and added to path to use pydub"
   ]
  },
  {
   "cell_type": "code",
   "execution_count": 2,
   "id": "d0222e0a-efbf-4244-82bc-ecb437d98962",
   "metadata": {},
   "outputs": [],
   "source": [
    "def mp3_to_np(mp3_file, normalized=False):\n",
    "    \"\"\"MP3 to numpy array\"\"\"\n",
    "    a = pydub.AudioSegment.from_mp3(mp3_file)\n",
    "    y = np.array(a.get_array_of_samples())\n",
    "    if a.channels == 2:\n",
    "        y = y.reshape((-1, 2))\n",
    "    if normalized:\n",
    "        return a.frame_rate, np.float32(y) / 2**15\n",
    "    else:\n",
    "        return a.frame_rate, y\n",
    "\n",
    "def np_to_mp3(dest_file, sr, x, normalized=False):\n",
    "    \"\"\"numpy array to MP3\"\"\"\n",
    "    channels = 2 if (x.ndim == 2 and x.shape[1] == 2) else 1\n",
    "    if normalized:  # normalized array - each item should be a float in [-1, 1)\n",
    "        y = np.int16(x * 2 ** 15)\n",
    "    else:\n",
    "        y = np.int16(x)\n",
    "    song = pydub.AudioSegment(y.tobytes(), frame_rate=sr, sample_width=2, channels=channels)\n",
    "    song.export(dest_file, format=\"mp3\", bitrate=\"320k\")"
   ]
  },
  {
   "cell_type": "markdown",
   "id": "b18fab8e-485b-4136-bc6f-4ec8345cc987",
   "metadata": {},
   "source": [
    "#### Download select mp3 files for local machine testing"
   ]
  },
  {
   "cell_type": "code",
   "execution_count": 17,
   "id": "142ff934-5d2b-4e48-ae6c-00ed91b5c8a0",
   "metadata": {},
   "outputs": [],
   "source": [
    "SELECT_SPECIES = [\"Pale-legged_Leaf_Warbler\", \"Black-crested_Bulbul\", \"Blue_Whistling_Thrush\", \n",
    "                  \"Orange-bellied_Flowerpecker\", \"Great_Slaty_Woodpecker\"]\n",
    "PATH = \"./data/mp3/\"\n",
    "\n",
    "for filename in os.listdir(\"./data\"):\n",
    "    if filename[:-5] in SELECT_SPECIES:\n",
    "        with open(\"./data/\" + filename, 'r') as speciesFile:\n",
    "            species_data = json.load(speciesFile)\n",
    "            #for i in range(0, len(species_data)):\n",
    "            for i in range(0, 3):\n",
    "                d = species_data[i]\n",
    "                if d[\"file-name\"].endswith(\".mp3\"):\n",
    "                    mp3_url = d[\"file\"]\n",
    "                    r = requests.get(mp3_url, allow_redirects=True)\n",
    "                    open(PATH + filename[:-5] + f\"_{i}.mp3\", 'wb').write(r.content)"
   ]
  },
  {
   "cell_type": "code",
   "execution_count": 19,
   "id": "d503f8c8-b423-4756-a1f2-1f2e2ab47847",
   "metadata": {},
   "outputs": [],
   "source": [
    "numpy_audio_sample = mp3_to_np(\"data/mp3/Blue_Whistling_Thrush_0.mp3\")"
   ]
  },
  {
   "cell_type": "code",
   "execution_count": null,
   "id": "42c27450-4743-4d80-a10a-81750da65936",
   "metadata": {},
   "outputs": [],
   "source": []
  },
  {
   "cell_type": "code",
   "execution_count": null,
   "id": "b2774d78-368d-48a1-8650-9698887b761d",
   "metadata": {},
   "outputs": [],
   "source": []
  }
 ],
 "metadata": {
  "kernelspec": {
   "display_name": "Python 3 (ipykernel)",
   "language": "python",
   "name": "python3"
  },
  "language_info": {
   "codemirror_mode": {
    "name": "ipython",
    "version": 3
   },
   "file_extension": ".py",
   "mimetype": "text/x-python",
   "name": "python",
   "nbconvert_exporter": "python",
   "pygments_lexer": "ipython3",
   "version": "3.9.12"
  }
 },
 "nbformat": 4,
 "nbformat_minor": 5
}
