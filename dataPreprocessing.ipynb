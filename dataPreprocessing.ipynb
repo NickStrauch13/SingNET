{
 "cells": [
  {
   "cell_type": "code",
   "execution_count": 13,
   "id": "09e149f5-4c23-4b6f-b62d-2cc9c2507326",
   "metadata": {},
   "outputs": [],
   "source": [
    "import numpy as np\n",
    "import audio2numpy as a2n\n",
    "import pydub\n",
    "import requests\n",
    "import os\n",
    "import json"
   ]
  },
  {
   "cell_type": "markdown",
   "id": "4602b06f-e5a7-43e0-be86-bfbf95891679",
   "metadata": {},
   "source": [
    "### mp3 to nparray"
   ]
  },
  {
   "cell_type": "code",
   "execution_count": 18,
   "id": "d0222e0a-efbf-4244-82bc-ecb437d98962",
   "metadata": {},
   "outputs": [],
   "source": [
    "def mp3_to_np(mp3_file, normalized=False):\n",
    "    \"\"\"MP3 to numpy array\"\"\"\n",
    "    a = pydub.AudioSegment.from_mp3(mp3_file)\n",
    "    y = np.array(a.get_array_of_samples())\n",
    "    if a.channels == 2:\n",
    "        y = y.reshape((-1, 2))\n",
    "    if normalized:\n",
    "        return a.frame_rate, np.float32(y) / 2**15\n",
    "    else:\n",
    "        return a.frame_rate, y\n",
    "\n",
    "def np_to_mp3(dest_file, sr, x, normalized=False):\n",
    "    \"\"\"numpy array to MP3\"\"\"\n",
    "    channels = 2 if (x.ndim == 2 and x.shape[1] == 2) else 1\n",
    "    if normalized:  # normalized array - each item should be a float in [-1, 1)\n",
    "        y = np.int16(x * 2 ** 15)\n",
    "    else:\n",
    "        y = np.int16(x)\n",
    "    song = pydub.AudioSegment(y.tobytes(), frame_rate=sr, sample_width=2, channels=channels)\n",
    "    song.export(dest_file, format=\"mp3\", bitrate=\"320k\")"
   ]
  },
  {
   "cell_type": "markdown",
   "id": "b18fab8e-485b-4136-bc6f-4ec8345cc987",
   "metadata": {},
   "source": [
    "#### Download select mp3 files for local machine testing"
   ]
  },
  {
   "cell_type": "code",
   "execution_count": 17,
   "id": "142ff934-5d2b-4e48-ae6c-00ed91b5c8a0",
   "metadata": {},
   "outputs": [],
   "source": [
    "SELECT_SPECIES = [\"Pale-legged_Leaf_Warbler\", \"Black-crested_Bulbul\", \"Blue_Whistling_Thrush\", \n",
    "                  \"Orange-bellied_Flowerpecker\", \"Great_Slaty_Woodpecker\"]\n",
    "PATH = \"./data/mp3/\"\n",
    "\n",
    "for filename in os.listdir(\"./data\"):\n",
    "    if filename[:-5] in SELECT_SPECIES:\n",
    "        with open(\"./data/\" + filename, 'r') as speciesFile:\n",
    "            species_data = json.load(speciesFile)\n",
    "            #for i in range(0, len(species_data)):\n",
    "            for i in range(0, 3):\n",
    "                d = species_data[i]\n",
    "                if d[\"file-name\"].endswith(\".mp3\"):\n",
    "                    mp3_url = d[\"file\"]\n",
    "                    r = requests.get(mp3_url, allow_redirects=True)\n",
    "                    open(PATH + filename[:-5] + f\"_{i}.mp3\", 'wb').write(r.content)"
   ]
  },
  {
   "cell_type": "code",
   "execution_count": 27,
   "id": "d503f8c8-b423-4756-a1f2-1f2e2ab47847",
   "metadata": {},
   "outputs": [
    {
     "ename": "NoBackendError",
     "evalue": "It is likely that ffmpeg is not yet installed. Please refer github repo for instruction. \n    MacOS: brew install ffmpeg.\n    Linux: sudo apt-get install ffmpeg\n    Windows: Download distribution from ffmpeg website, unzip, add the path of bin (e.g. `C:\ffmpeg\bin`) to system PATH.",
     "output_type": "error",
     "traceback": [
      "\u001b[1;31m---------------------------------------------------------------------------\u001b[0m",
      "\u001b[1;31mNoBackendError\u001b[0m                            Traceback (most recent call last)",
      "Input \u001b[1;32mIn [27]\u001b[0m, in \u001b[0;36m<cell line: 2>\u001b[1;34m()\u001b[0m\n\u001b[0;32m      1\u001b[0m \u001b[38;5;66;03m#a = mp3_to_np(\"./data/mp3/Orange-bellied_Flowerpecker_0.mp3\")\u001b[39;00m\n\u001b[1;32m----> 2\u001b[0m x,sr\u001b[38;5;241m=\u001b[39m\u001b[43ma2n\u001b[49m\u001b[38;5;241;43m.\u001b[39;49m\u001b[43maudio_from_file\u001b[49m\u001b[43m(\u001b[49m\u001b[38;5;124;43m\"\u001b[39;49m\u001b[38;5;124;43m/data/mp3/Orange-bellied_Flowerpecker_0.mp3\u001b[39;49m\u001b[38;5;124;43m\"\u001b[39;49m\u001b[43m)\u001b[49m\n",
      "File \u001b[1;32m~\\anaconda3\\lib\\site-packages\\audio2numpy\\loader.py:76\u001b[0m, in \u001b[0;36maudio_from_file\u001b[1;34m(path, offset, duration, dtype)\u001b[0m\n\u001b[0;32m     61\u001b[0m \u001b[38;5;124;03m'''Load an audio buffer using audioread.\u001b[39;00m\n\u001b[0;32m     62\u001b[0m \u001b[38;5;124;03mThis loads one block at a time, and then concatenates the results.\u001b[39;00m\n\u001b[0;32m     63\u001b[0m \n\u001b[1;32m   (...)\u001b[0m\n\u001b[0;32m     73\u001b[0m \u001b[38;5;124;03m    data type. By default float32\u001b[39;00m\n\u001b[0;32m     74\u001b[0m \u001b[38;5;124;03m'''\u001b[39;00m\n\u001b[0;32m     75\u001b[0m y \u001b[38;5;241m=\u001b[39m []  \u001b[38;5;66;03m# audio array\u001b[39;00m\n\u001b[1;32m---> 76\u001b[0m \u001b[38;5;28;01mwith\u001b[39;00m \u001b[43m_audio_read\u001b[49m\u001b[43m(\u001b[49m\u001b[43mpath\u001b[49m\u001b[43m)\u001b[49m \u001b[38;5;28;01mas\u001b[39;00m input_file:\n\u001b[0;32m     77\u001b[0m     sr_native \u001b[38;5;241m=\u001b[39m input_file\u001b[38;5;241m.\u001b[39msamplerate\n\u001b[0;32m     78\u001b[0m     n_channels \u001b[38;5;241m=\u001b[39m input_file\u001b[38;5;241m.\u001b[39mchannels\n",
      "File \u001b[1;32m~\\anaconda3\\lib\\site-packages\\audio2numpy\\loader.py:57\u001b[0m, in \u001b[0;36m_audio_read\u001b[1;34m(path)\u001b[0m\n\u001b[0;32m     52\u001b[0m     \u001b[38;5;28;01mraise\u001b[39;00m AudioFormatError(\u001b[38;5;124m\"\u001b[39m\u001b[38;5;124mOnly support mp3, wav, aiff formats.\u001b[39m\u001b[38;5;124m\"\u001b[39m)\n\u001b[0;32m     53\u001b[0m msg \u001b[38;5;241m=\u001b[39m \u001b[38;5;124m\"\"\"\u001b[39m\u001b[38;5;124mIt is likely that ffmpeg is not yet installed. Please refer github repo for instruction. \u001b[39m\n\u001b[0;32m     54\u001b[0m \u001b[38;5;124mMacOS: brew install ffmpeg.\u001b[39m\n\u001b[0;32m     55\u001b[0m \u001b[38;5;124mLinux: sudo apt-get install ffmpeg\u001b[39m\n\u001b[0;32m     56\u001b[0m \u001b[38;5;124mWindows: Download distribution from ffmpeg website, unzip, add the path of bin (e.g. `C:\u001b[39m\u001b[38;5;130;01m\\f\u001b[39;00m\u001b[38;5;124mfmpeg\u001b[39m\u001b[38;5;130;01m\\b\u001b[39;00m\u001b[38;5;124min`) to system PATH.\u001b[39m\u001b[38;5;124m\"\"\"\u001b[39m\n\u001b[1;32m---> 57\u001b[0m \u001b[38;5;28;01mraise\u001b[39;00m NoBackendError(msg)\n",
      "\u001b[1;31mNoBackendError\u001b[0m: It is likely that ffmpeg is not yet installed. Please refer github repo for instruction. \n    MacOS: brew install ffmpeg.\n    Linux: sudo apt-get install ffmpeg\n    Windows: Download distribution from ffmpeg website, unzip, add the path of bin (e.g. `C:\ffmpeg\bin`) to system PATH."
     ]
    }
   ],
   "source": [
    "#a = mp3_to_np(\"./data/mp3/Orange-bellied_Flowerpecker_0.mp3\")\n",
    "x,sr=a2n.audio_from_file(\"/data/mp3/Orange-bellied_Flowerpecker_0.mp3\")"
   ]
  },
  {
   "cell_type": "code",
   "execution_count": null,
   "id": "42c27450-4743-4d80-a10a-81750da65936",
   "metadata": {},
   "outputs": [],
   "source": []
  },
  {
   "cell_type": "code",
   "execution_count": null,
   "id": "b2774d78-368d-48a1-8650-9698887b761d",
   "metadata": {},
   "outputs": [],
   "source": []
  }
 ],
 "metadata": {
  "kernelspec": {
   "display_name": "Python 3 (ipykernel)",
   "language": "python",
   "name": "python3"
  },
  "language_info": {
   "codemirror_mode": {
    "name": "ipython",
    "version": 3
   },
   "file_extension": ".py",
   "mimetype": "text/x-python",
   "name": "python",
   "nbconvert_exporter": "python",
   "pygments_lexer": "ipython3",
   "version": "3.9.12"
  }
 },
 "nbformat": 4,
 "nbformat_minor": 5
}
