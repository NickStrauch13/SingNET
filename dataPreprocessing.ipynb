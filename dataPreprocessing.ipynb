{
 "cells": [
  {
   "cell_type": "code",
   "execution_count": null,
   "id": "45bc90f4-5bcf-4075-9b1d-79aac2ca301c",
   "metadata": {},
   "outputs": [],
   "source": []
  },
  {
   "cell_type": "code",
   "execution_count": 1,
   "id": "09e149f5-4c23-4b6f-b62d-2cc9c2507326",
   "metadata": {},
   "outputs": [],
   "source": [
    "import numpy as np\n",
    "import pydub\n",
    "import requests\n",
    "import os\n",
    "import json\n",
    "import noisereduce as nr\n",
    "import librosa\n",
    "import librosa.display\n",
    "from scipy.io import wavfile\n",
    "import matplotlib.pyplot as plt\n",
    "from PreprocessingFunctions import *"
   ]
  },
  {
   "cell_type": "markdown",
   "id": "b18fab8e-485b-4136-bc6f-4ec8345cc987",
   "metadata": {},
   "source": [
    "#### Download select mp3 files for local machine testing"
   ]
  },
  {
   "cell_type": "code",
   "execution_count": 4,
   "id": "142ff934-5d2b-4e48-ae6c-00ed91b5c8a0",
   "metadata": {},
   "outputs": [],
   "source": [
    "PATH = \"./data/costa_rica/mp3/\"\n",
    "\n",
    "for filename in os.listdir(\"./data/costa_rica\"):\n",
    "    if filename.endswith(\".json\"):\n",
    "        with open(\"./data/costa_rica/\" + filename, 'r') as speciesFile:\n",
    "            species_data = json.load(speciesFile)\n",
    "            for i in range(0, len(species_data)):\n",
    "                d = species_data[i]\n",
    "                if d[\"file-name\"].endswith(\".mp3\") and d[\"smp\"]==\"48000\" and d[\"q\"] != \"E\":\n",
    "                    mp3_url = d[\"file\"]\n",
    "                    r = requests.get(mp3_url, allow_redirects=True)\n",
    "                    open(PATH + filename[:-5] + f\"_{i}.mp3\", 'wb').write(r.content)"
   ]
  },
  {
   "cell_type": "markdown",
   "id": "eae6f259-59dc-401f-b650-21a319647b66",
   "metadata": {},
   "source": [
    "#### Make data windows for Costa-Rica data"
   ]
  },
  {
   "cell_type": "code",
   "execution_count": null,
   "id": "b7ad938f-8a49-47d7-a135-5ff5e17c295b",
   "metadata": {},
   "outputs": [],
   "source": [
    "PATH_TO_COSTA_MP3 = \"./data/costa_rica/mp3\"\n",
    "\n",
    "for filename in os.listdir(PATH_TO_COSTA_MP3):\n",
    "    if filename.endswith(\".mp3\"):\n",
    "        sr, numpy_audio_array = mp3_to_np(PATH_TO_COSTA_MP3 + \"/\" + filename)\n",
    "        if len(numpy_audio_array.shape) == 2:\n",
    "            numpy_audio_array = np.mean(numpy_audio_array, axis=1)\n",
    "        windows = extract_best_windows(numpy_audio_array, sr)\n",
    "        for i in range(0, len(windows)):\n",
    "            np_to_mp3(\"./data/costa_rica/mp3_windows/\" + filename[:-4] + f\"_{i}.mp3\", sr, windows[i])"
   ]
  },
  {
   "cell_type": "markdown",
   "id": "32fdc9ff-d9e4-4ed1-a5f8-ddeb0518da61",
   "metadata": {},
   "source": [
    "#### Sort Costa data into training and validation splits. Testing data will come from real recordings"
   ]
  },
  {
   "cell_type": "code",
   "execution_count": 14,
   "id": "dcefaa96-91da-4cb0-b43c-34d5c2f4cf30",
   "metadata": {},
   "outputs": [],
   "source": [
    "import random\n",
    "import shutil\n",
    "\n",
    "SPEC_PATH = \"data/costa_rica/denoised_spectrogram\"\n",
    "TRAIN_PATH = \"data/costa_rica/train_dn\"\n",
    "VAL_PATH = \"data/costa_rica/validation_dn\"\n",
    "TRAIN_RATIO = .9\n",
    "\n",
    "if not os.path.exists(TRAIN_PATH):\n",
    "    os.mkdir(TRAIN_PATH)\n",
    "if not os.path.exists(VAL_PATH):\n",
    "    os.mkdir(VAL_PATH)\n",
    "    \n",
    "for directory in os.listdir(SPEC_PATH):\n",
    "    if not os.path.exists(TRAIN_PATH+\"/\"+directory):\n",
    "        os.mkdir(TRAIN_PATH+\"/\"+directory)\n",
    "    if not os.path.exists(VAL_PATH+\"/\"+directory):\n",
    "        os.mkdir(VAL_PATH+\"/\"+directory)\n",
    "    file_list = os.listdir(SPEC_PATH+\"/\"+directory)\n",
    "    random.shuffle(file_list)\n",
    "    t_idx = int(len(file_list)*TRAIN_RATIO)\n",
    "    train_files = file_list[:t_idx]\n",
    "    val_files = file_list[t_idx:]\n",
    "    train_dest = TRAIN_PATH+\"/\"+directory\n",
    "    val_dest = VAL_PATH+\"/\"+directory\n",
    "    for filename in train_files:\n",
    "        if not filename.endswith(\".ipynb_checkpoints\"):\n",
    "            shutil.copy(SPEC_PATH+\"/\"+directory+\"/\"+filename, train_dest)\n",
    "    for filename in val_files:\n",
    "        if not filename.endswith(\".ipynb_checkpoints\"):\n",
    "            shutil.copy(SPEC_PATH+\"/\"+directory+\"/\"+filename, val_dest)\n",
    "            "
   ]
  },
  {
   "cell_type": "markdown",
   "id": "7004750c-efcb-4bb4-bb1d-b7fc3161f69e",
   "metadata": {},
   "source": [
    "### Denoise all wav files"
   ]
  },
  {
   "cell_type": "code",
   "execution_count": 16,
   "id": "3932b810-3049-40af-be8a-c321e472e241",
   "metadata": {},
   "outputs": [],
   "source": [
    "#WAV_PATH = \"data/costa_rica/wav\"\n",
    "#DEST_PATH = \"data/costa_rica/denoised_wav\"\n",
    "WAV_PATH = \"data/costa_rica/test_wav\"\n",
    "DEST_PATH = \"data/costa_rica/test_wav\"\n",
    "for filename in os.listdir(WAV_PATH):\n",
    "    if filename.endswith(\".wav\"):\n",
    "        # load data\n",
    "        data, sr = librosa.load(WAV_PATH +\"/\"+ filename, sr=None)\n",
    "        # perform noise reduction\n",
    "        reduced_noise = nr.reduce_noise(y=data, sr=sr)\n",
    "        wavfile.write(DEST_PATH +\"/\"+ filename[:-4] + \"dn.wav\", sr, reduced_noise)\n",
    "        "
   ]
  },
  {
   "cell_type": "markdown",
   "id": "d71b2a7a-3d68-4efd-b64f-faa0185c4e10",
   "metadata": {},
   "source": [
    "### Make denoised spectrograms"
   ]
  },
  {
   "cell_type": "code",
   "execution_count": 17,
   "id": "0a89feec-0b5b-430e-837b-1ee03f6618f7",
   "metadata": {},
   "outputs": [
    {
     "name": "stderr",
     "output_type": "stream",
     "text": [
      "C:\\Users\\nickj\\Documents\\Duke\\Senior\\ECE590\\SingNET\\PreprocessingFunctions.py:110: FutureWarning: Pass y=[-4.4815639e-05 -6.1679304e-05 -7.5348922e-05 ...  3.6212343e-05\n",
      "  3.2392138e-05  2.6903126e-05], sr=48000 as keyword args. From version 0.10 passing these as positional arguments will result in an error\n",
      "  Z = librosa.feature.melspectrogram(x,sr)\n"
     ]
    },
    {
     "name": "stdout",
     "output_type": "stream",
     "text": [
      "0.5\n"
     ]
    }
   ],
   "source": [
    "# wav_path = \"data/costa_rica/denoised_wav\"\n",
    "# audio_clips = os.listdir(wav_path)\n",
    "# export_path = \"data/costa_rica/denoised_spectrogram/\"\n",
    "wav_path = \"data/costa_rica/test_wav\"\n",
    "audio_clips = os.listdir(wav_path)\n",
    "export_path = \"data/costa_rica/test/\"\n",
    "\n",
    "get_spectro_from_wav(audio_clips=audio_clips, wav_path=wav_path+\"/\", export_path=export_path, make_subdirs=True)"
   ]
  },
  {
   "cell_type": "code",
   "execution_count": 4,
   "id": "ec52ab1b-c100-4fc0-8b62-4196e34bc90e",
   "metadata": {},
   "outputs": [],
   "source": [
    "wav_file_path = \"data/costa_rica/test_wav/Bird_1dn.wav\"\n",
    "export_path = \"data/costa_rica/test/\"\n",
    "file_name_root = \"Bird1dn\"\n",
    "convert_long_wav_to_spectro_windows(wav_file_path, export_path, file_name_root, window_size=5)"
   ]
  },
  {
   "cell_type": "code",
   "execution_count": null,
   "id": "3892bd4a-34dc-42d3-9f2e-80b237d7f7f2",
   "metadata": {},
   "outputs": [],
   "source": []
  },
  {
   "cell_type": "code",
   "execution_count": 4,
   "id": "9b83fe19-09c4-4a3d-b8c0-7279e2e931db",
   "metadata": {},
   "outputs": [],
   "source": [
    "wavPath = 'data/costa_rica/wav/Broad-billed_Motmot_22.wav'\n",
    "newmp3testpath = 'data/costa_rica/testmp3/Broad-billed_Motmot_22.mp3'\n",
    "convert_wav_to_mp3(wavPath,newmp3testpath)\n"
   ]
  },
  {
   "cell_type": "code",
   "execution_count": 5,
   "id": "40f66f23-28aa-4e1e-8d88-5029f78f08ad",
   "metadata": {},
   "outputs": [],
   "source": [
    "mp3_path = \"data/costa_rica/test/wav\"+\"/mp3version.mp3\"\n",
    "wav_file_path = \"data/costa_rica/test_wav/Bird_1dn.wav\"\n",
    "\n",
    "convert_wav_to_mp3(wav_file_path, mp3_path)\n",
    "sr, audio_array = mp3_to_np(mp3_path)\n",
    "windows = extract_best_windows(audio_array, sr)\n",
    "for i in range(0, len(windows)):\n",
    "    np_to_wav(\"data/costa_rica/test/wav\"+f\"/wavtest_{i}.wav\", sr, windows[i])\n",
    "    \n",
    "wav_path = \"data/costa_rica/test/wav\"\n",
    "audio_clips = os.listdir(wav_path)\n",
    "export_path = \"data/costa_rica/test/spectrogram/\"\n",
    "\n",
    "get_spectro_from_wav(audio_clips=audio_clips, wav_path=wav_path+\"/\", export_path=export_path)\n",
    "        "
   ]
  },
  {
   "cell_type": "code",
   "execution_count": null,
   "id": "88a4660e-d8f1-4c7e-95bc-d3d8abae32a4",
   "metadata": {},
   "outputs": [],
   "source": []
  }
 ],
 "metadata": {
  "kernelspec": {
   "display_name": "Python 3 (ipykernel)",
   "language": "python",
   "name": "python3"
  },
  "language_info": {
   "codemirror_mode": {
    "name": "ipython",
    "version": 3
   },
   "file_extension": ".py",
   "mimetype": "text/x-python",
   "name": "python",
   "nbconvert_exporter": "python",
   "pygments_lexer": "ipython3",
   "version": "3.9.12"
  }
 },
 "nbformat": 4,
 "nbformat_minor": 5
}
