{
 "cells": [
  {
   "cell_type": "code",
   "execution_count": 3,
   "id": "09e149f5-4c23-4b6f-b62d-2cc9c2507326",
   "metadata": {},
   "outputs": [],
   "source": [
    "import numpy as np\n",
    "import pydub\n",
    "import requests\n",
    "import os\n",
    "import json"
   ]
  },
  {
   "cell_type": "markdown",
   "id": "4602b06f-e5a7-43e0-be86-bfbf95891679",
   "metadata": {},
   "source": [
    "### mp3 to nparray\n",
    "You need ffmpeg installed and added to path to use pydub"
   ]
  },
  {
   "cell_type": "code",
   "execution_count": 5,
   "id": "d0222e0a-efbf-4244-82bc-ecb437d98962",
   "metadata": {},
   "outputs": [],
   "source": [
    "def mp3_to_np(mp3_file, normalized=False):\n",
    "    \"\"\"MP3 to numpy array\"\"\"\n",
    "    a = pydub.AudioSegment.from_mp3(mp3_file)\n",
    "    y = np.array(a.get_array_of_samples())\n",
    "    if a.channels == 2:\n",
    "        y = y.reshape((-1, 2))\n",
    "    if normalized:\n",
    "        return a.frame_rate, np.float32(y) / 2**15\n",
    "    else:\n",
    "        return a.frame_rate, y\n",
    "\n",
    "def np_to_mp3(dest_file, sr, x, normalized=False):\n",
    "    \"\"\"numpy array to MP3\"\"\"\n",
    "    channels = 2 if (x.ndim == 2 and x.shape[1] == 2) else 1\n",
    "    if normalized:  # normalized array - each item should be a float in [-1, 1)\n",
    "        y = np.int16(x * 2 ** 15)\n",
    "    else:\n",
    "        y = np.int16(x)\n",
    "    song = pydub.AudioSegment(y.tobytes(), frame_rate=sr, sample_width=2, channels=channels)\n",
    "    song.export(dest_file, format=\"mp3\", bitrate=\"320k\")"
   ]
  },
  {
   "cell_type": "markdown",
   "id": "b18fab8e-485b-4136-bc6f-4ec8345cc987",
   "metadata": {},
   "source": [
    "#### Download select mp3 files for local machine testing"
   ]
  },
  {
   "cell_type": "code",
   "execution_count": 4,
   "id": "142ff934-5d2b-4e48-ae6c-00ed91b5c8a0",
   "metadata": {},
   "outputs": [],
   "source": [
    "PATH = \"./data/costa_rica/mp3/\"\n",
    "\n",
    "for filename in os.listdir(\"./data/costa_rica\"):\n",
    "    if filename.endswith(\".json\"):\n",
    "        with open(\"./data/costa_rica/\" + filename, 'r') as speciesFile:\n",
    "            species_data = json.load(speciesFile)\n",
    "            for i in range(0, len(species_data)):\n",
    "                d = species_data[i]\n",
    "                if d[\"file-name\"].endswith(\".mp3\") and d[\"smp\"]==\"48000\" and d[\"q\"] != \"E\":\n",
    "                    mp3_url = d[\"file\"]\n",
    "                    r = requests.get(mp3_url, allow_redirects=True)\n",
    "                    open(PATH + filename[:-5] + f\"_{i}.mp3\", 'wb').write(r.content)"
   ]
  },
  {
   "cell_type": "markdown",
   "id": "bfe1aed2-5b04-479f-923d-de0d917fbd2c",
   "metadata": {},
   "source": [
    "#### Define function for window selection"
   ]
  },
  {
   "cell_type": "code",
   "execution_count": 21,
   "id": "9f2f10d7-c00a-4d2f-af77-ae3600ced59d",
   "metadata": {},
   "outputs": [],
   "source": [
    "# Finds the max-sum window (sub array) in a given np array.\n",
    "#\n",
    "# array = array or list to parse\n",
    "# sr = sample rate\n",
    "# samples_per_window = length of desired window \n",
    "# stride_coeff = controls stride of sliding window. stride = stride_coeff * sr\n",
    "#              (In other words, a stride_coeff = .5 means a stride of half a second)\n",
    "#\n",
    "# Returns the start (i) and end (j) indicies of the window in the given array\\\n",
    "#\n",
    "# *** Perhaps in the future we should punish window values near the start and end. This would help center the bird call ***\n",
    "\n",
    "def find_max_window(array, sr, samples_per_window, stride_coeff=.5):\n",
    "    if samples_per_window > len(array):\n",
    "        return (-1, -1)\n",
    "    \n",
    "    stride = int(stride_coeff * sr)\n",
    "    if stride > len(array):\n",
    "        return (-1, 1)\n",
    "    \n",
    "    if isinstance(array, list):\n",
    "        array = np.array(array)\n",
    "    \n",
    "    array = abs(array)\n",
    "    max_sum = 0\n",
    "    best_i, best_j = -1, -1\n",
    "    i, j = 0, samples_per_window\n",
    "    \n",
    "    while j <= len(array):\n",
    "        curr_sum = sum(array[i:j])\n",
    "        if curr_sum > max_sum:\n",
    "            max_sum = curr_sum\n",
    "            best_i, best_j = i, j\n",
    "        i += stride\n",
    "        j += stride\n",
    "    \n",
    "    return (best_i, best_j)\n",
    "    "
   ]
  },
  {
   "cell_type": "code",
   "execution_count": 22,
   "id": "9a667243-6078-4b2b-aae4-47235be94f39",
   "metadata": {},
   "outputs": [],
   "source": [
    "# Extracts max total magnitude windows \"window_size\" seconds long.\n",
    "#\n",
    "# audio_array = 1D numpy array representing audio file\n",
    "# sr = sample rate\n",
    "# window_size = desired length of windows in seconds\n",
    "#\n",
    "# Returns a list of numpy arrays (windows)\n",
    "\n",
    "def extract_best_windows(audio_array, sr, window_size=5):\n",
    "    samples_per_window = sr * window_size\n",
    "    if samples_per_window > len(audio_array):\n",
    "        return []\n",
    "    \n",
    "    ret = []\n",
    "    start, end = find_max_window(audio_array, sr, samples_per_window)\n",
    "    max_window = audio_array[start:end]\n",
    "    \n",
    "    ret.append(max_window)\n",
    "    ret.extend(extract_best_windows(audio_array[0:start], sr, window_size=5))\n",
    "    ret.extend(extract_best_windows(audio_array[end:], sr, window_size=5))\n",
    "    \n",
    "    return ret\n",
    "    \n",
    "    "
   ]
  },
  {
   "cell_type": "markdown",
   "id": "eae6f259-59dc-401f-b650-21a319647b66",
   "metadata": {},
   "source": [
    "#### Make data windows for Costa-Rica data"
   ]
  },
  {
   "cell_type": "code",
   "execution_count": null,
   "id": "b7ad938f-8a49-47d7-a135-5ff5e17c295b",
   "metadata": {},
   "outputs": [],
   "source": [
    "PATH_TO_COSTA_MP3 = \"./data/costa_rica/mp3\"\n",
    "\n",
    "for filename in os.listdir(PATH_TO_COSTA_MP3):\n",
    "    if filename.endswith(\".mp3\"):\n",
    "        sr, numpy_audio_array = mp3_to_np(PATH_TO_COSTA_MP3 + \"/\" + filename)\n",
    "        if len(numpy_audio_array.shape) == 2:\n",
    "            numpy_audio_array = np.mean(numpy_audio_array, axis=1)\n",
    "        windows = extract_best_windows(numpy_audio_array, sr)\n",
    "        for i in range(0, len(windows)):\n",
    "            np_to_mp3(\"./data/costa_rica/mp3_windows/\" + filename[:-4] + f\"_{i}.mp3\", sr, windows[i])"
   ]
  },
  {
   "cell_type": "markdown",
   "id": "32fdc9ff-d9e4-4ed1-a5f8-ddeb0518da61",
   "metadata": {},
   "source": [
    "#### Sort Costa data into training and validation splits. Testing data will come from real recordings"
   ]
  },
  {
   "cell_type": "code",
   "execution_count": 7,
   "id": "dcefaa96-91da-4cb0-b43c-34d5c2f4cf30",
   "metadata": {},
   "outputs": [],
   "source": [
    "import random\n",
    "import shutil\n",
    "\n",
    "SPEC_PATH = \"data/costa_rica/spectrogram\"\n",
    "TRAIN_PATH = \"data/costa_rica/train\"\n",
    "VAL_PATH = \"data/costa_rica/validation\"\n",
    "TRAIN_RATIO = .9\n",
    "\n",
    "if not os.path.exists(TRAIN_PATH):\n",
    "    os.mkdir(TRAIN_PATH)\n",
    "if not os.path.exists(VAL_PATH):\n",
    "    os.mkdir(VAL_PATH)\n",
    "    \n",
    "for directory in os.listdir(SPEC_PATH):\n",
    "    if not os.path.exists(TRAIN_PATH+\"/\"+directory):\n",
    "        os.mkdir(TRAIN_PATH+\"/\"+directory)\n",
    "    if not os.path.exists(VAL_PATH+\"/\"+directory):\n",
    "        os.mkdir(VAL_PATH+\"/\"+directory)\n",
    "    file_list = os.listdir(SPEC_PATH+\"/\"+directory)\n",
    "    random.shuffle(file_list)\n",
    "    t_idx = int(len(file_list)*TRAIN_RATIO)\n",
    "    train_files = file_list[:t_idx]\n",
    "    val_files = file_list[t_idx:]\n",
    "    train_dest = TRAIN_PATH+\"/\"+directory\n",
    "    val_dest = VAL_PATH+\"/\"+directory\n",
    "    for filename in train_files:\n",
    "        if not filename.endswith(\".ipynb_checkpoints\"):\n",
    "            shutil.copy(SPEC_PATH+\"/\"+directory+\"/\"+filename, train_dest)\n",
    "    for filename in val_files:\n",
    "        if not filename.endswith(\".ipynb_checkpoints\"):\n",
    "            shutil.copy(SPEC_PATH+\"/\"+directory+\"/\"+filename, val_dest)\n",
    "            "
   ]
  },
  {
   "cell_type": "code",
   "execution_count": null,
   "id": "55948f14-dc7e-4277-8c98-2ed5da0849f9",
   "metadata": {},
   "outputs": [],
   "source": []
  }
 ],
 "metadata": {
  "kernelspec": {
   "display_name": "Python 3 (ipykernel)",
   "language": "python",
   "name": "python3"
  },
  "language_info": {
   "codemirror_mode": {
    "name": "ipython",
    "version": 3
   },
   "file_extension": ".py",
   "mimetype": "text/x-python",
   "name": "python",
   "nbconvert_exporter": "python",
   "pygments_lexer": "ipython3",
   "version": "3.9.12"
  }
 },
 "nbformat": 4,
 "nbformat_minor": 5
}
