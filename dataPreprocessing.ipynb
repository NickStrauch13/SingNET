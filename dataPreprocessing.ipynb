{
 "cells": [
  {
   "cell_type": "code",
   "execution_count": 1,
   "id": "09e149f5-4c23-4b6f-b62d-2cc9c2507326",
   "metadata": {},
   "outputs": [],
   "source": [
    "import numpy as np\n",
    "import pydub\n",
    "import requests\n",
    "import os\n",
    "import json\n",
    "import noisereduce as nr\n",
    "import librosa\n",
    "import librosa.display\n",
    "from scipy.io import wavfile\n",
    "import matplotlib.pyplot as plt\n",
    "from PIL import Image\n",
    "from PreprocessingFunctions import *"
   ]
  },
  {
   "cell_type": "markdown",
   "id": "b18fab8e-485b-4136-bc6f-4ec8345cc987",
   "metadata": {},
   "source": [
    "#### Download select mp3 files for local machine testing"
   ]
  },
  {
   "cell_type": "code",
   "execution_count": null,
   "id": "142ff934-5d2b-4e48-ae6c-00ed91b5c8a0",
   "metadata": {},
   "outputs": [],
   "source": [
    "PATH = \"./data/mp3/\"\n",
    "\n",
    "for filename in os.listdir(\"./data\"):\n",
    "    if filename.endswith(\".json\"):\n",
    "        with open(\"./data/\" + filename, 'r') as speciesFile:\n",
    "            species_data = json.load(speciesFile)\n",
    "            for i in range(0, len(species_data)):\n",
    "                d = species_data[i]\n",
    "                if d[\"file-name\"].endswith(\".mp3\") and d[\"smp\"]==\"48000\" and d[\"q\"] != \"E\" and d[\"q\"] != \"F\":\n",
    "                    mp3_url = d[\"file\"]\n",
    "                    r = requests.get(mp3_url, allow_redirects=True)\n",
    "                    open(PATH + filename[:-5] + f\"_{i}.mp3\", 'wb').write(r.content)"
   ]
  },
  {
   "cell_type": "markdown",
   "id": "eae6f259-59dc-401f-b650-21a319647b66",
   "metadata": {},
   "source": [
    "#### Make data windows"
   ]
  },
  {
   "cell_type": "code",
   "execution_count": 2,
   "id": "b7ad938f-8a49-47d7-a135-5ff5e17c295b",
   "metadata": {},
   "outputs": [],
   "source": [
    "PATH_TO_DATA_MP3 = \"./data/mp3\"\n",
    "desired_files = [x for x in os.listdir(PATH_TO_DATA_MP3) if \"Identity_unknown\" not in x]\n",
    "window_root_names = [\"_\".join(x.split(\"_\")[:-1]) for x in os.listdir(\"./data/mp3_windows\")]\n",
    "desired_files = [x for x in desired_files if x[:-4] not in window_root_names]\n",
    "num_samples = len(desired_files)\n",
    "c = 0\n",
    "print(f\"starting with {desired_files[1]}\")\n",
    "print(f\"{num_samples} files to convert\")\n",
    "\n",
    "for filename in desired_files:\n",
    "    try:\n",
    "        if filename.endswith(\".mp3\"):\n",
    "            c+=1\n",
    "            if c % 25 == 0:\n",
    "                print(round(c/num_samples, 5))\n",
    "            sr, numpy_audio_array = mp3_to_np(PATH_TO_DATA_MP3 + \"/\" + filename)\n",
    "            if len(numpy_audio_array.shape) == 2:\n",
    "                numpy_audio_array = np.mean(numpy_audio_array, axis=1)\n",
    "            windows = extract_best_windows(numpy_audio_array, sr, max_power=0)\n",
    "            for i in range(0, len(windows)):\n",
    "                np_to_mp3(\"./data/mp3_windows/\" + filename[:-4] + f\"_{i}.mp3\", sr, windows[i])\n",
    "    except:\n",
    "        print(filename + \" failed to convert\")"
   ]
  },
  {
   "cell_type": "markdown",
   "id": "536a031f-98f0-4604-a178-e5f875128d92",
   "metadata": {},
   "source": [
    "### Mp3 To Wav"
   ]
  },
  {
   "cell_type": "code",
   "execution_count": 2,
   "id": "d6cd77fb-a21a-43ea-8bfe-2b4d82de4c93",
   "metadata": {},
   "outputs": [
    {
     "name": "stdout",
     "output_type": "stream",
     "text": [
      "['Eurasian_Tree_Sparrow_1692_9.mp3', 'House_Sparrow_1314_31.mp3']\n",
      "Eurasian_Tree_Sparrow_1692_9.mp3 failed to convert\n"
     ]
    }
   ],
   "source": [
    "PATH_TO_DATA_WAV= \"./data/wav_windows\"\n",
    "PATH_TO_MP3_WINDOWS = \"./data/mp3_windows\"\n",
    "current_wav_windows = os.listdir(PATH_TO_DATA_WAV)\n",
    "desired_files = [x for x in os.listdir(PATH_TO_MP3_WINDOWS) if x.replace(\".mp3\",\".wav\") not in current_wav_windows]\n",
    "print(desired_files[:2])\n",
    "\n",
    "convert_mp3s_to_wav(desired_files, PATH_TO_MP3_WINDOWS+\"/\", PATH_TO_DATA_WAV+\"/\")"
   ]
  },
  {
   "cell_type": "markdown",
   "id": "7004750c-efcb-4bb4-bb1d-b7fc3161f69e",
   "metadata": {},
   "source": [
    "### Denoise all wav files"
   ]
  },
  {
   "cell_type": "code",
   "execution_count": 2,
   "id": "3932b810-3049-40af-be8a-c321e472e241",
   "metadata": {},
   "outputs": [],
   "source": [
    "WAV_PATH = PATH_TO_DATA_WAV\n",
    "DEST_PATH = \"data/dn_wav_windows\"\n",
    "all_wav_files = os.listdir(WAV_PATH)\n",
    "current_denoised_files = os.listdir(DEST_PATH)\n",
    "desired_files = [x for x in all_wav_files if x.replace(\".wav\", \"dn.wav\") not in current_denoised_files]\n",
    "total_files = len(desired_files)\n",
    "c=0\n",
    "print(f\"Starting with {desired_files[:3]}\")\n",
    "\n",
    "for filename in desired_files:\n",
    "    if filename.endswith(\".wav\"):\n",
    "        try:\n",
    "            # load data\n",
    "            data, sr = librosa.load(WAV_PATH +\"/\"+ filename, sr=None)\n",
    "            # perform noise reduction\n",
    "            reduced_noise = nr.reduce_noise(y=data, sr=sr)\n",
    "            wavfile.write(DEST_PATH +\"/\"+ filename[:-4] + \"dn.wav\", sr, reduced_noise)\n",
    "            c+=1\n",
    "        except:\n",
    "            print(f\"{filename} failed to denoise\")\n",
    "        if c % 100 == 0:\n",
    "            print(round(c/total_files, 5))\n",
    "        "
   ]
  },
  {
   "cell_type": "markdown",
   "id": "e57c9ed8-ca3a-40ba-88ab-0e6772d5247d",
   "metadata": {},
   "source": [
    "### Wav Window To Spectrogram "
   ]
  },
  {
   "cell_type": "code",
   "execution_count": 2,
   "id": "c9a645b7-a337-47f8-b787-9eb7e0e827a0",
   "metadata": {},
   "outputs": [
    {
     "name": "stdout",
     "output_type": "stream",
     "text": [
      "Starting with ['White_Wagtail_156_2dn.wav', 'White_Wagtail_156_3dn.wav', 'White_Wagtail_156_4dn.wav']. 4399 wav files to convert in total.\n",
      "0.05683\n",
      "0.11366\n",
      "0.17049\n",
      "0.22732\n",
      "0.28416\n",
      "0.34099\n",
      "0.39782\n",
      "0.45465\n",
      "0.51148\n",
      "0.56831\n",
      "0.62514\n",
      "0.68197\n",
      "0.7388\n",
      "0.79564\n",
      "0.85247\n",
      "0.9093\n",
      "0.96613\n"
     ]
    }
   ],
   "source": [
    "DN_WAV_PATH =  \"data/dn_wav_windows\"\n",
    "PATH_TO_SPECTRO = \"data/spectrograms\"\n",
    "all_wav_files = os.listdir(DN_WAV_PATH)\n",
    "current_spectros = os.listdir(PATH_TO_SPECTRO)\n",
    "desired_files = [x for x in all_wav_files if x.replace(\".wav\", \".jpg\") not in current_spectros]\n",
    "total_files = len(desired_files)\n",
    "print(f\"Starting with {desired_files[:3]}. {total_files} wav files to convert in total.\")\n",
    "\n",
    "get_spectro_from_wav(desired_files, DN_WAV_PATH+\"/\",PATH_TO_SPECTRO+\"/\")\n",
    "\n"
   ]
  },
  {
   "cell_type": "markdown",
   "id": "5a33f68f-8483-42a9-ba45-63d8f5ed8322",
   "metadata": {},
   "source": [
    "#### Sort Spectrograms into species sub-folders"
   ]
  },
  {
   "cell_type": "code",
   "execution_count": 3,
   "id": "93cf0437-e82f-4639-92da-c07e27d36d6b",
   "metadata": {},
   "outputs": [],
   "source": [
    "import shutil\n",
    "audio_clips = os.listdir(\"data/spectrograms\")\n",
    "export_path = \"data/sorted_spectrograms/\"\n",
    "\n",
    "for filename in audio_clips:\n",
    "    if filename.endswith(\".jpg\"):\n",
    "        dir_name = \"_\".join(filename.split(\"_\")[:-2])\n",
    "        dir_path = export_path+dir_name\n",
    "        if not os.path.exists(dir_path):\n",
    "            os.mkdir(dir_path)\n",
    "        dest_path = dir_path + \"/\" + filename\n",
    "        shutil.copy(\"data/spectrograms/\"+filename, dest_path)\n",
    "    "
   ]
  },
  {
   "cell_type": "markdown",
   "id": "32fdc9ff-d9e4-4ed1-a5f8-ddeb0518da61",
   "metadata": {},
   "source": [
    "#### Sort data into training and validation splits. Testing data will come from real recordings"
   ]
  },
  {
   "cell_type": "code",
   "execution_count": 4,
   "id": "dcefaa96-91da-4cb0-b43c-34d5c2f4cf30",
   "metadata": {},
   "outputs": [],
   "source": [
    "import random\n",
    "import shutil\n",
    "\n",
    "\n",
    "SPEC_PATH = \"data/sorted_spectrograms\"\n",
    "TRAIN_PATH = \"data/train\"\n",
    "VAL_PATH = \"data/validation\"\n",
    "TRAIN_RATIO = .9\n",
    "\n",
    "if not os.path.exists(TRAIN_PATH):\n",
    "    os.mkdir(TRAIN_PATH)\n",
    "if not os.path.exists(VAL_PATH):\n",
    "    os.mkdir(VAL_PATH)\n",
    "    \n",
    "for directory in os.listdir(SPEC_PATH):\n",
    "    if not os.path.exists(TRAIN_PATH+\"/\"+directory):\n",
    "        os.mkdir(TRAIN_PATH+\"/\"+directory)\n",
    "    if not os.path.exists(VAL_PATH+\"/\"+directory):\n",
    "        os.mkdir(VAL_PATH+\"/\"+directory)\n",
    "    file_list = os.listdir(SPEC_PATH+\"/\"+directory)\n",
    "    random.shuffle(file_list)\n",
    "    t_idx = int(len(file_list)*TRAIN_RATIO)\n",
    "    train_files = file_list[:t_idx]\n",
    "    val_files = file_list[t_idx:]\n",
    "    train_dest = TRAIN_PATH+\"/\"+directory\n",
    "    val_dest = VAL_PATH+\"/\"+directory\n",
    "    for filename in train_files:\n",
    "        if not filename.endswith(\".ipynb_checkpoints\"):\n",
    "            shutil.copy(SPEC_PATH+\"/\"+directory+\"/\"+filename, train_dest)\n",
    "    for filename in val_files:\n",
    "        if not filename.endswith(\".ipynb_checkpoints\"):\n",
    "            shutil.copy(SPEC_PATH+\"/\"+directory+\"/\"+filename, val_dest)\n",
    "            "
   ]
  },
  {
   "cell_type": "markdown",
   "id": "d71b2a7a-3d68-4efd-b64f-faa0185c4e10",
   "metadata": {},
   "source": [
    "### Make denoised spectrograms of testing data"
   ]
  },
  {
   "cell_type": "code",
   "execution_count": 2,
   "id": "ec52ab1b-c100-4fc0-8b62-4196e34bc90e",
   "metadata": {},
   "outputs": [],
   "source": [
    "wav_file_path = \"data/costa_rica/test_wav/Bird_1dn.wav\"\n",
    "export_path = \"data/costa_rica/test/\"\n",
    "file_name_root = \"Bird1dn\"\n",
    "convert_long_wav_to_spectro_windows(wav_file_path, export_path, file_name_root, window_size=5)"
   ]
  },
  {
   "cell_type": "markdown",
   "id": "e8aa9a1f-d620-42f8-b164-5e75f99084ce",
   "metadata": {},
   "source": [
    "### Make Resized Copies of Data for Transfer Learning"
   ]
  },
  {
   "cell_type": "code",
   "execution_count": 4,
   "id": "35fd5214-9dc9-4bc4-945b-f2a8e4b2f7fc",
   "metadata": {},
   "outputs": [],
   "source": [
    "downsample_images(\"./data/train_refined\", \"./data/small_train_179\", min_num_files=30)"
   ]
  },
  {
   "cell_type": "code",
   "execution_count": 5,
   "id": "da5470c3-75b9-4fda-b7a2-40b4d754ebd8",
   "metadata": {},
   "outputs": [],
   "source": [
    "downsample_images(\"./data/validation_refined\", \"./data/small_validation_179\", min_num_files=30)"
   ]
  },
  {
   "cell_type": "code",
   "execution_count": null,
   "id": "4b94915f-221f-4d59-ae47-a5110e5e942a",
   "metadata": {},
   "outputs": [],
   "source": []
  },
  {
   "cell_type": "code",
   "execution_count": null,
   "id": "a41441d3-600d-482e-85d9-2de2f01bfb03",
   "metadata": {},
   "outputs": [],
   "source": []
  }
 ],
 "metadata": {
  "kernelspec": {
   "display_name": "Python 3 (ipykernel)",
   "language": "python",
   "name": "python3"
  },
  "language_info": {
   "codemirror_mode": {
    "name": "ipython",
    "version": 3
   },
   "file_extension": ".py",
   "mimetype": "text/x-python",
   "name": "python",
   "nbconvert_exporter": "python",
   "pygments_lexer": "ipython3",
   "version": "3.9.12"
  }
 },
 "nbformat": 4,
 "nbformat_minor": 5
}
