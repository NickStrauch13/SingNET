{
 "cells": [
  {
   "cell_type": "code",
   "execution_count": 1,
   "id": "09e149f5-4c23-4b6f-b62d-2cc9c2507326",
   "metadata": {},
   "outputs": [],
   "source": [
    "import numpy as np\n",
    "import pydub\n",
    "import requests\n",
    "import os\n",
    "import json\n",
    "import noisereduce as nr\n",
    "import librosa\n",
    "import librosa.display\n",
    "from scipy.io import wavfile\n",
    "import matplotlib.pyplot as plt\n",
    "\n",
    "from PreprocessingFunctions import mp3_to_np, np_to_mp3, find_max_window, extract_best_windows, convert_mp3s_to_wav, get_spectro_from_wav"
   ]
  },
  {
   "cell_type": "markdown",
   "id": "b18fab8e-485b-4136-bc6f-4ec8345cc987",
   "metadata": {},
   "source": [
    "#### Download select mp3 files for local machine testing"
   ]
  },
  {
   "cell_type": "code",
   "execution_count": 4,
   "id": "142ff934-5d2b-4e48-ae6c-00ed91b5c8a0",
   "metadata": {},
   "outputs": [],
   "source": [
    "PATH = \"./data/costa_rica/mp3/\"\n",
    "\n",
    "for filename in os.listdir(\"./data/costa_rica\"):\n",
    "    if filename.endswith(\".json\"):\n",
    "        with open(\"./data/costa_rica/\" + filename, 'r') as speciesFile:\n",
    "            species_data = json.load(speciesFile)\n",
    "            for i in range(0, len(species_data)):\n",
    "                d = species_data[i]\n",
    "                if d[\"file-name\"].endswith(\".mp3\") and d[\"smp\"]==\"48000\" and d[\"q\"] != \"E\":\n",
    "                    mp3_url = d[\"file\"]\n",
    "                    r = requests.get(mp3_url, allow_redirects=True)\n",
    "                    open(PATH + filename[:-5] + f\"_{i}.mp3\", 'wb').write(r.content)"
   ]
  },
  {
   "cell_type": "markdown",
   "id": "eae6f259-59dc-401f-b650-21a319647b66",
   "metadata": {},
   "source": [
    "#### Make data windows for Costa-Rica data"
   ]
  },
  {
   "cell_type": "code",
   "execution_count": null,
   "id": "b7ad938f-8a49-47d7-a135-5ff5e17c295b",
   "metadata": {},
   "outputs": [],
   "source": [
    "PATH_TO_COSTA_MP3 = \"./data/costa_rica/mp3\"\n",
    "\n",
    "for filename in os.listdir(PATH_TO_COSTA_MP3):\n",
    "    if filename.endswith(\".mp3\"):\n",
    "        sr, numpy_audio_array = mp3_to_np(PATH_TO_COSTA_MP3 + \"/\" + filename)\n",
    "        if len(numpy_audio_array.shape) == 2:\n",
    "            numpy_audio_array = np.mean(numpy_audio_array, axis=1)\n",
    "        windows = extract_best_windows(numpy_audio_array, sr)\n",
    "        for i in range(0, len(windows)):\n",
    "            np_to_mp3(\"./data/costa_rica/mp3_windows/\" + filename[:-4] + f\"_{i}.mp3\", sr, windows[i])"
   ]
  },
  {
   "cell_type": "markdown",
   "id": "32fdc9ff-d9e4-4ed1-a5f8-ddeb0518da61",
   "metadata": {},
   "source": [
    "#### Sort Costa data into training and validation splits. Testing data will come from real recordings"
   ]
  },
  {
   "cell_type": "code",
   "execution_count": 7,
   "id": "dcefaa96-91da-4cb0-b43c-34d5c2f4cf30",
   "metadata": {},
   "outputs": [],
   "source": [
    "import random\n",
    "import shutil\n",
    "\n",
    "SPEC_PATH = \"data/costa_rica/spectrogram\"\n",
    "TRAIN_PATH = \"data/costa_rica/train\"\n",
    "VAL_PATH = \"data/costa_rica/validation\"\n",
    "TRAIN_RATIO = .9\n",
    "\n",
    "if not os.path.exists(TRAIN_PATH):\n",
    "    os.mkdir(TRAIN_PATH)\n",
    "if not os.path.exists(VAL_PATH):\n",
    "    os.mkdir(VAL_PATH)\n",
    "    \n",
    "for directory in os.listdir(SPEC_PATH):\n",
    "    if not os.path.exists(TRAIN_PATH+\"/\"+directory):\n",
    "        os.mkdir(TRAIN_PATH+\"/\"+directory)\n",
    "    if not os.path.exists(VAL_PATH+\"/\"+directory):\n",
    "        os.mkdir(VAL_PATH+\"/\"+directory)\n",
    "    file_list = os.listdir(SPEC_PATH+\"/\"+directory)\n",
    "    random.shuffle(file_list)\n",
    "    t_idx = int(len(file_list)*TRAIN_RATIO)\n",
    "    train_files = file_list[:t_idx]\n",
    "    val_files = file_list[t_idx:]\n",
    "    train_dest = TRAIN_PATH+\"/\"+directory\n",
    "    val_dest = VAL_PATH+\"/\"+directory\n",
    "    for filename in train_files:\n",
    "        if not filename.endswith(\".ipynb_checkpoints\"):\n",
    "            shutil.copy(SPEC_PATH+\"/\"+directory+\"/\"+filename, train_dest)\n",
    "    for filename in val_files:\n",
    "        if not filename.endswith(\".ipynb_checkpoints\"):\n",
    "            shutil.copy(SPEC_PATH+\"/\"+directory+\"/\"+filename, val_dest)\n",
    "            "
   ]
  },
  {
   "cell_type": "code",
   "execution_count": 4,
   "id": "55948f14-dc7e-4277-8c98-2ed5da0849f9",
   "metadata": {},
   "outputs": [],
   "source": [
    "# load data\n",
    "data, sr = librosa.load(\"data/costa_rica/wav/Broad-billed_Motmot_105_4.wav\", sr=None)\n",
    "# perform noise reduction\n",
    "reduced_noise = nr.reduce_noise(y=data, sr=sr)\n",
    "wavfile.write(\"data/costa_rica/denoised_wav/Broad-billed_Motmot_105_4_denoise.wav\", sr, reduced_noise)"
   ]
  },
  {
   "cell_type": "code",
   "execution_count": 6,
   "id": "81f1a9e9-0bee-4550-af9f-0dd9da9e6014",
   "metadata": {},
   "outputs": [
    {
     "name": "stdout",
     "output_type": "stream",
     "text": [
      "0.0\n"
     ]
    }
   ],
   "source": [
    "get_spectro_from_wav(audio_clips=[\"Broad-billed_Motmot_105_4_denoise.wav\"], wav_path=\"data/costa_rica/denoised_wav/\", export_path=\"data/costa_rica/\")"
   ]
  },
  {
   "cell_type": "code",
   "execution_count": null,
   "id": "2660b0a7-fb18-41b8-9c2b-7f21603e39ba",
   "metadata": {},
   "outputs": [],
   "source": []
  }
 ],
 "metadata": {
  "kernelspec": {
   "display_name": "Python 3 (ipykernel)",
   "language": "python",
   "name": "python3"
  },
  "language_info": {
   "codemirror_mode": {
    "name": "ipython",
    "version": 3
   },
   "file_extension": ".py",
   "mimetype": "text/x-python",
   "name": "python",
   "nbconvert_exporter": "python",
   "pygments_lexer": "ipython3",
   "version": "3.9.12"
  }
 },
 "nbformat": 4,
 "nbformat_minor": 5
}
